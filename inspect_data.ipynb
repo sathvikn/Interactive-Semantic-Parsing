{
 "cells": [
  {
   "cell_type": "code",
   "execution_count": 10,
   "metadata": {},
   "outputs": [],
   "source": [
    "import pickle"
   ]
  },
  {
   "cell_type": "code",
   "execution_count": 11,
   "metadata": {},
   "outputs": [],
   "source": [
    "datafile = open('code/Hierarchical-SP/Log/hRL/REINFORCE/checkpoint/ckpt_toy_lr{0.00100_0.00100}_penalty0.300_wgtUser0.500_hmask1_pretrain1/stats.pkl')"
   ]
  },
  {
   "cell_type": "code",
   "execution_count": 12,
   "metadata": {},
   "outputs": [],
   "source": [
    "original_run_stats = pickle.load(datafile)"
   ]
  },
  {
   "cell_type": "markdown",
   "metadata": {},
   "source": [
    "Without exploration"
   ]
  },
  {
   "cell_type": "code",
   "execution_count": 13,
   "metadata": {
    "scrolled": true
   },
   "outputs": [
    {
     "data": {
      "text/plain": [
       "{'agent_current_time_steps': [15373, 17068, 15804, 16661, 44000],\n",
       " 'best_averaged_internal_reward': 0.7564,\n",
       " 'best_averaged_low_level_iter': 500,\n",
       " 'best_cf_acc': 0.84,\n",
       " 'best_cf_acc_iter': 500,\n",
       " 'best_external_reward': 3.0256,\n",
       " 'best_high_level_iter': 500,\n",
       " 'external_reward_mode2best_iter': {1: 500},\n",
       " 'external_reward_mode2best_reward': {1: 3.0256},\n",
       " 'iteration': 1999}"
      ]
     },
     "execution_count": 13,
     "metadata": {},
     "output_type": "execute_result"
    }
   ],
   "source": [
    "original_run_stats"
   ]
  },
  {
   "cell_type": "code",
   "execution_count": 15,
   "metadata": {},
   "outputs": [],
   "source": [
    "no_disct = open(\"code/Hierarchical-SP/Log/hRL/REINFORCE/checkpoint/ckpt_toy_lr{0.00100_0.00100}_penalty0.300_wgtUser0.500_hmask1_pretrain1zero_discount/stats.pkl\")"
   ]
  },
  {
   "cell_type": "code",
   "execution_count": 16,
   "metadata": {
    "scrolled": true
   },
   "outputs": [
    {
     "data": {
      "text/plain": [
       "{'agent_current_time_steps': [15291, 17020, 15727, 16612, 44000],\n",
       " 'best_averaged_internal_reward': 0.76025,\n",
       " 'best_averaged_low_level_iter': 1750,\n",
       " 'best_cf_acc': 0.844,\n",
       " 'best_cf_acc_iter': 1000,\n",
       " 'best_external_reward': 3.041,\n",
       " 'best_high_level_iter': 1750,\n",
       " 'external_reward_mode2best_iter': {1: 1750},\n",
       " 'external_reward_mode2best_reward': {1: 3.041},\n",
       " 'iteration': 1999}"
      ]
     },
     "execution_count": 16,
     "metadata": {},
     "output_type": "execute_result"
    }
   ],
   "source": [
    "no_dis_stats = pickle.load(no_disct)\n",
    "no_dis_stats"
   ]
  },
  {
   "cell_type": "markdown",
   "metadata": {},
   "source": [
    "With HL exp"
   ]
  },
  {
   "cell_type": "code",
   "execution_count": 17,
   "metadata": {},
   "outputs": [
    {
     "data": {
      "text/plain": [
       "{'agent_current_time_steps': [4238, 4650, 4318, 4556, 12000],\n",
       " 'best_averaged_internal_reward': 0.7631249999999999,\n",
       " 'best_averaged_low_level_iter': 1999,\n",
       " 'best_cf_acc': 0.85,\n",
       " 'best_cf_acc_iter': 1999,\n",
       " 'best_external_reward': 3.0525,\n",
       " 'best_high_level_iter': 1999,\n",
       " 'external_reward_mode2best_iter': {1: 1999},\n",
       " 'external_reward_mode2best_reward': {1: 3.0525},\n",
       " 'iteration': 1999}"
      ]
     },
     "execution_count": 17,
     "metadata": {},
     "output_type": "execute_result"
    }
   ],
   "source": [
    "rbf_exp_stats = open(\"code/Hierarchical-SP/Log/hRL/REINFORCE/checkpoint/ckpt_toy_lr{0.00100_0.00100}_penalty0.300_wgtUser0.500_hmask1_pretrain1hl_rbf_exploration/stats.pkl\")\n",
    "pickle.load(rbf_exp_stats) "
   ]
  },
  {
   "cell_type": "markdown",
   "metadata": {},
   "source": [
    "With LL exp"
   ]
  },
  {
   "cell_type": "code",
   "execution_count": 18,
   "metadata": {},
   "outputs": [
    {
     "data": {
      "text/plain": [
       "{'agent_current_time_steps': [4235, 4641, 4325, 4558, 12000],\n",
       " 'best_averaged_internal_reward': 0.7532749999999999,\n",
       " 'best_averaged_low_level_iter': 1999,\n",
       " 'best_cf_acc': 0.834,\n",
       " 'best_cf_acc_iter': 1999,\n",
       " 'best_external_reward': 3.0131,\n",
       " 'best_high_level_iter': 1999,\n",
       " 'external_reward_mode2best_iter': {1: 1999},\n",
       " 'external_reward_mode2best_reward': {1: 3.0131},\n",
       " 'iteration': 1999}"
      ]
     },
     "execution_count": 18,
     "metadata": {},
     "output_type": "execute_result"
    }
   ],
   "source": [
    "ll_exp_stats = open(\"code/Hierarchical-SP/Log/hRL/REINFORCE/checkpoint/ckpt_toy_lr{0.00100_0.00100}_penalty0.300_wgtUser0.500_hmask1_pretrain1try_ll_toy/stats.pkl\")\n",
    "pickle.load(ll_exp_stats)"
   ]
  },
  {
   "cell_type": "markdown",
   "metadata": {},
   "source": [
    "With both exploration"
   ]
  },
  {
   "cell_type": "code",
   "execution_count": 19,
   "metadata": {},
   "outputs": [],
   "source": [
    "both_exp_stats = open(\"code/Hierarchical-SP/Log/hRL/REINFORCE/checkpoint/ckpt_toy_lr{0.00100_0.00100}_penalty0.300_wgtUser0.500_hmask1_pretrain1both_explore_toy/stats.pkl\")"
   ]
  },
  {
   "cell_type": "code",
   "execution_count": 20,
   "metadata": {},
   "outputs": [
    {
     "data": {
      "text/plain": [
       "{'agent_current_time_steps': [4237, 4640, 4324, 4558, 12000],\n",
       " 'best_averaged_internal_reward': 0.7562749999999998,\n",
       " 'best_averaged_low_level_iter': 1999,\n",
       " 'best_cf_acc': 0.84,\n",
       " 'best_cf_acc_iter': 1999,\n",
       " 'best_external_reward': 3.0251,\n",
       " 'best_high_level_iter': 1999,\n",
       " 'external_reward_mode2best_iter': {1: 1999},\n",
       " 'external_reward_mode2best_reward': {1: 3.0251},\n",
       " 'iteration': 1999}"
      ]
     },
     "execution_count": 20,
     "metadata": {},
     "output_type": "execute_result"
    }
   ],
   "source": [
    "pickle.load(both_exp_stats)"
   ]
  }
 ],
 "metadata": {
  "kernelspec": {
   "display_name": "Python [conda env:cs285-proj] *",
   "language": "python",
   "name": "conda-env-cs285-proj-py"
  },
  "language_info": {
   "codemirror_mode": {
    "name": "ipython",
    "version": 2
   },
   "file_extension": ".py",
   "mimetype": "text/x-python",
   "name": "python",
   "nbconvert_exporter": "python",
   "pygments_lexer": "ipython2",
   "version": "2.7.17"
  }
 },
 "nbformat": 4,
 "nbformat_minor": 2
}
